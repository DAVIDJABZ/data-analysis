{
 "cells": [
  {
   "cell_type": "code",
   "execution_count": 51,
   "id": "28716841-5241-4781-a297-11ad85f3a9ad",
   "metadata": {},
   "outputs": [],
   "source": [
    "from kaggle.api.kaggle_api_extended import KaggleApi\n",
    "from pathlib import Path\n",
    "import pandas as pd\n",
    "import zipfile\n",
    "import os\n"
   ]
  },
  {
   "cell_type": "code",
   "execution_count": 53,
   "id": "8af2bc73-192a-4734-a348-d128aabc1eca",
   "metadata": {},
   "outputs": [],
   "source": [
    "\n",
    "\n",
    "def download_kaggle_competition_data(competition_name, download_path):\n",
    "    # Initialize Kaggle API\n",
    "    api = KaggleApi()\n",
    "    api.authenticate()\n",
    "\n",
    "    # Ensure the download path exists\n",
    "    download_path = Path(download_path)\n",
    "    if not download_path.exists():\n",
    "        download_path.mkdir(parents=True, exist_ok=True)\n",
    "\n",
    "    # Download competition data\n",
    "    print(f\"Downloading data for competition '{competition_name}'...\")\n",
    "    api.competition_download_files(competition_name, path=str(download_path))\n",
    "    \n",
    "    # Unzip the competition data\n",
    "    zip_file = download_path / f\"{competition_name}.zip\"\n",
    "    if zip_file.exists():\n",
    "        print(f\"Unzipping {zip_file}...\")\n",
    "        with zipfile.ZipFile(zip_file, 'r') as zip_ref:\n",
    "            zip_ref.extractall(download_path)\n",
    "        zip_file.unlink()  # Optionally delete the zip file after extraction\n",
    "    else:\n",
    "        raise FileNotFoundError(f\"Zip file {zip_file} not found\")\n",
    "\n",
    "    print(f\"Downloaded and extracted data to {download_path}\")\n",
    "    return download_path\n",
    "\n",
    "def list_csv_files(path):\n",
    "    # List all CSV files in the given path\n",
    "    csv_files = list(path.rglob(\"*.csv\"))  # Recursively look for all CSV files\n",
    "    if csv_files:\n",
    "        print(\"Available CSV files:\")\n",
    "        for idx, file in enumerate(csv_files, 1):\n",
    "            print(f\"{idx}. {file.name}\")\n",
    "        return csv_files\n",
    "    else:\n",
    "        raise FileNotFoundError(\"No CSV files found in the dataset folder.\")\n",
    "\n",
    "def load_selected_csv_file(csv_files, file_index):\n",
    "    # Load the selected CSV file based on the index\n",
    "    selected_file = csv_files[file_index - 1]  # Convert to 0-based index\n",
    "    print(f\"Loading data from {selected_file}...\")\n",
    "    return pd.read_csv(selected_file)\n",
    "\n",
    "def load_competition_data(competition_name, download_path):\n",
    "    # Download the dataset and get the path\n",
    "    dataset_path = download_kaggle_competition_data(competition_name, download_path)\n",
    "    \n",
    "    # List available CSV files and allow the user to select one\n",
    "    csv_files = list_csv_files(dataset_path)\n",
    "    file_index = int(input(f\"Enter the number of the CSV file you want to load (1-{len(csv_files)}): \"))\n",
    "    \n",
    "    # Load the selected CSV file into a DataFrame\n",
    "    return load_selected_csv_file(csv_files, file_index)\n"
   ]
  },
  {
   "cell_type": "code",
   "execution_count": 55,
   "id": "49d214dc-1496-4d78-8bd3-a2c07673afd0",
   "metadata": {},
   "outputs": [],
   "source": [
    "def download_kaggle_data(dataset, dataset_dir):\n",
    "    \"\"\"\n",
    "    Downloads and unzips a Kaggle dataset.\n",
    "\n",
    "    :param dataset: The Kaggle dataset in 'username/dataset-name' format.\n",
    "    :param dataset_dir: The directory where the dataset should be stored.\n",
    "    \"\"\"\n",
    "    # Authenticate with Kaggle API\n",
    "    api = KaggleApi()\n",
    "    api.authenticate()\n",
    "\n",
    "    # Create dataset directory if it doesn't exist\n",
    "    Path(dataset_dir).mkdir(parents=True, exist_ok=True)\n",
    "\n",
    "    # Download dataset\n",
    "    print(f\"Downloading {dataset}...\")\n",
    "    api.dataset_download_files(dataset, path=dataset_dir, unzip=True)\n",
    "\n",
    "    print(f\"Downloaded and unzipped to {dataset_dir}\")\n"
   ]
  },
  {
   "cell_type": "code",
   "execution_count": 1,
   "id": "3ea86c37-4d9a-475b-9c65-2769bd555574",
   "metadata": {},
   "outputs": [],
   "source": [
    "def wisker(col):\n",
    "    q1,q3 = np.percentile(col,[25,75])\n",
    "    iqr = q3 -q1\n",
    "    lw = q1 - 1.5*iqr\n",
    "    uw = q3 + 1.5 * iqr\n",
    "    return lw, uw\n",
    "    "
   ]
  },
  {
   "cell_type": "code",
   "execution_count": null,
   "id": "9b1eb94e-c3a3-4e55-a60c-d3e268f29739",
   "metadata": {},
   "outputs": [],
   "source": []
  }
 ],
 "metadata": {
  "kernelspec": {
   "display_name": "Python 3 (ipykernel)",
   "language": "python",
   "name": "python3"
  },
  "language_info": {
   "codemirror_mode": {
    "name": "ipython",
    "version": 3
   },
   "file_extension": ".py",
   "mimetype": "text/x-python",
   "name": "python",
   "nbconvert_exporter": "python",
   "pygments_lexer": "ipython3",
   "version": "3.12.3"
  }
 },
 "nbformat": 4,
 "nbformat_minor": 5
}
